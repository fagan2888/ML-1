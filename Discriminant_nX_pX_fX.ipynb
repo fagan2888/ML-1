{
 "cells": [
  {
   "cell_type": "code",
   "execution_count": 1,
   "metadata": {},
   "outputs": [],
   "source": [
    "# import necessary packages\n",
    "import numpy as np\n",
    "import pandas as pd\n",
    "import math\n",
    "import matplotlib.pyplot as plt\n",
    "from sklearn.metrics import auc"
   ]
  },
  {
   "cell_type": "code",
   "execution_count": 2,
   "metadata": {},
   "outputs": [],
   "source": [
    "def gaussian_mle (trainfile,a,b):\n",
    "    fileData = open(trainfile, \"r\",encoding='utf-8-sig')\n",
    "    lines = fileData.readlines()\n",
    "    data = []\n",
    "    for line in lines:\n",
    "        x = line.split()\n",
    "        data.append(x)\n",
    "    \n",
    "    df = pd.DataFrame(data,index = None, columns = list(range (len(data[0]))) )\n",
    "    df = df.apply(pd.to_numeric)\n",
    "    col = len (df.columns)-1\n",
    "    X = df.iloc[:,0:col].values\n",
    "    Y = df.iloc[:,col].values\n",
    "        \n",
    "    class0 = df.loc[(df[col] == 0)]\n",
    "    class1 = df.loc[(df[col] == 1)]\n",
    "\n",
    "    col0 = len (class0.columns)-1\n",
    "    X0 = class0.iloc[:,0:col0].values\n",
    "    mat0 = np.matrix(X0)    \n",
    "\n",
    "    col1 = len (class1.columns)-1\n",
    "    X1 = class1.iloc[:,0:col1].values\n",
    "    mat1 = np.matrix(X1)  \n",
    "\n",
    "    class_type = np.unique(Y)\n",
    "    n_classes = class_type.shape[0]\n",
    "    mean_vectors = []\n",
    "    for cls in class_type:\n",
    "        mean_vectors.append(np.mean(X[Y==cls], axis=0))\n",
    "    \n",
    "    mu0 = mean_vectors[0]\n",
    "    mu1 = mean_vectors[1]\n",
    "    cov0 = ((mat0 - mu0).T.dot((mat0 - mu0)))/mat0.shape[0]\n",
    "    cov1 = ((mat1 - mu1).T.dot((mat1 - mu1)))/mat1.shape[0]\n",
    "\n",
    "    # find covariance matrices for CASE I\n",
    "    I = np.identity(col)\n",
    "    sigma3 = cov0[a,b]*I\n",
    "\n",
    "    cov_vectors = [cov0,cov1,sigma3] \n",
    "    dim_data = df.shape[0]\n",
    "    dim_class0 = class0.shape[0]\n",
    "    dim_class1 = class1.shape[0]\n",
    "\n",
    "    return mean_vectors, cov_vectors, dim_data, dim_class0,dim_class1\n",
    "\n",
    "# gaussian_mle ('nX_PIMA_TR.txt',cov0[4,4])"
   ]
  },
  {
   "cell_type": "code",
   "execution_count": 3,
   "metadata": {},
   "outputs": [],
   "source": [
    "# calculate for different probabilities and create dictionary with probability as keys and accuracy as values\n",
    "def mpp(testFile,mean1,mean2,detClass1,detClass2,invClass1,invClass2,probClass1):\n",
    "    probClass2 = 1-probClass1\n",
    "    \n",
    "    # read the test data file\n",
    "    fileData1 = open(testFile, \"r\",encoding='utf-8-sig')\n",
    "    lines = fileData1.readlines()\n",
    "    \n",
    "    data = []\n",
    "    for line in lines:\n",
    "        x = line.split()\n",
    "        data.append(x)\n",
    "    \n",
    "    df = pd.DataFrame(data,index = None, columns = list(range (len(data[0]))) )\n",
    "    df = df.apply(pd.to_numeric)\n",
    "    col = len (df.columns)\n",
    "    X = df.iloc[:,0:col].values\n",
    "\n",
    "    # create a matrix from test data for calculation\n",
    "    testSet = np.matrix(X)\n",
    "\n",
    "    n = testSet.shape[1]\n",
    "    \n",
    "    predictedMatrix = np.zeros((testSet.shape[0], 2))\n",
    "\n",
    "    correctGuesses = 0\n",
    "    line1 = np.zeros((1, n-1))\n",
    "    for i in range(testSet.shape[0]):\n",
    "        for j in range (n-1):\n",
    "            line1[:,j] = testSet[i,j]\n",
    "\n",
    "            line2 = line1.T\n",
    "            mahalanobis = line2 - mean1\n",
    "            mahalanobis1 = mahalanobis.T\n",
    "            mahalanobis2 = mahalanobis1 * invClass1\n",
    "            mahalanobis3 = mahalanobis2 * (line2 - mean1)\n",
    "            varMahalanobis = float(-0.5 * mahalanobis3[0][0])\n",
    "            probIsClass1 = float((1.0 / math.sqrt(2 * math.pi * detClass1)) * math.exp(varMahalanobis) * (probClass1))\n",
    "\n",
    "            mahalanobiss = line2 - mean2\n",
    "            mahalanobiss1 = mahalanobiss.T\n",
    "            mahalanobiss2 = mahalanobiss1 * invClass2\n",
    "            mahalanobiss3 = mahalanobiss2 * (line2 - mean2)\n",
    "            varMahalanobiss = float(-0.5 * mahalanobiss3[0][0])\n",
    "\n",
    "            probIsClass2 = float((1.0 / math.sqrt(2 * math.pi * detClass2)) * math.exp(varMahalanobiss) * (probClass2))\n",
    "\n",
    "            predictedClass = 0\n",
    "            if probIsClass2 > probIsClass1:\n",
    "                predictedClass = 1\n",
    "\n",
    "            if predictedClass == testSet[i,n-1]: \n",
    "                correctGuesses+=1\n",
    "\n",
    "            error = float(min(probIsClass2, probIsClass1))\n",
    "\n",
    "            predictedMatrix[i][1] = error\n",
    "            predictedMatrix[i][0] = predictedClass\n",
    "\n",
    "    return testSet,predictedMatrix\n"
   ]
  },
  {
   "cell_type": "code",
   "execution_count": 4,
   "metadata": {},
   "outputs": [],
   "source": [
    "#calculate TP,TN,FP,FN values\n",
    "def performance_measure(testSet, predictedMatrix):\n",
    "    n = testSet.shape[1]\n",
    "    true_class = []\n",
    "    predicted_class = []\n",
    "    for i in range(testSet.shape[0]):\n",
    "        true = testSet[i,n-1]\n",
    "        true_class.append(true)\n",
    "        \n",
    "    for i in range(predictedMatrix.shape[0]):\n",
    "        predicted = predictedMatrix[i,0]\n",
    "        predicted_class.append(predicted)\n",
    "    TP = 0\n",
    "    FP = 0\n",
    "    TN = 0\n",
    "    FN = 0\n",
    "\n",
    "    posneg = []\n",
    "    for i in range(len(predicted_class)): \n",
    "        if true_class[i]==predicted_class[i]==1:\n",
    "            TP += 1\n",
    "        if predicted_class[i]==1 and true_class[i]!=predicted_class[i]:\n",
    "            FP += 1\n",
    "        if true_class[i]==predicted_class[i]==0:\n",
    "            TN += 1\n",
    "        if predicted_class[i]==0 and true_class[i]!=predicted_class[i]:\n",
    "            FN += 1\n",
    "\n",
    "    posneg.append(TP)\n",
    "    posneg.append(FP)\n",
    "    posneg.append(TN)\n",
    "    posneg.append(FN)\n",
    "    \n",
    "    return posneg\n"
   ]
  },
  {
   "cell_type": "code",
   "execution_count": 5,
   "metadata": {},
   "outputs": [],
   "source": [
    "#calculate sensitivity,specificity, TPR, FPR\n",
    "def accuracy(performance_list):\n",
    "    sensitivity = performance_list[0]/(performance_list[0]+performance_list[3])\n",
    "    specificity = performance_list[2]/(performance_list[2]+performance_list[1])\n",
    "    TPR = sensitivity\n",
    "    FPR = 1 - specificity\n",
    "    roc = [sensitivity,specificity, TPR, FPR]\n",
    "    return roc\n"
   ]
  },
  {
   "cell_type": "code",
   "execution_count": 6,
   "metadata": {},
   "outputs": [],
   "source": [
    "#calculate accuracy (the probability of a correct decision)\n",
    "def getAccuracy(performance_list):\n",
    "    acc = (performance_list[0]+performance_list[2])/sum(performance_list)\n",
    "    return acc"
   ]
  },
  {
   "cell_type": "code",
   "execution_count": 7,
   "metadata": {},
   "outputs": [],
   "source": [
    "#calculate sensitivity,specificity, TPR, FPR for different prior probabilities\n",
    "def perf_list (filename,mean1,mean2,detClass1,detClass2,invClass1,invClass2):\n",
    "    probClass1 = []\n",
    "    x = 0\n",
    "    while x<1:\n",
    "        x+=.005\n",
    "        probClass1.append(x)\n",
    "\n",
    "    perf = []\n",
    "    for p in probClass1:\n",
    "        testSet,predictedMatrix= mpp(filename,mean1,mean2,detClass1,detClass2,invClass1,invClass2,p)\n",
    "        performance = performance_measure(testSet, predictedMatrix)\n",
    "        acc = accuracy(performance)\n",
    "        perf.append(acc)\n",
    "    return perf\n"
   ]
  },
  {
   "cell_type": "code",
   "execution_count": 8,
   "metadata": {},
   "outputs": [],
   "source": [
    "#plot ROC curve and calculate the area under the curve\n",
    "def plot_roc(perf_list):\n",
    "    plt.figure(figsize=(6,5))\n",
    "    lw = 2\n",
    "\n",
    "    TPR = []\n",
    "    FPR = []\n",
    "    for i in range(len(perf_list)):\n",
    "        x = perf_list[i][2]\n",
    "        TPR.append(x)\n",
    "        y = perf_list[i][3]\n",
    "        FPR.append(y)\n",
    "        \n",
    "    roc_auc = auc(FPR, TPR) \n",
    "\n",
    "    plt.plot(FPR, TPR, color='darkorange',lw=2,label='ROC curve (area = %0.2f)' % roc_auc)\n",
    "    plt.plot([0, 1], [0, 1], color='navy', lw=lw, linestyle='--')\n",
    "    \n",
    "    # plt.plot([0, 1], [0, 1], color='navy', lw=lw, linestyle='--')\n",
    "    plt.xlim([0.0, 1.0])\n",
    "    plt.ylim([0.0, 1.0])\n",
    "    plt.xlabel('False Positive Rate')\n",
    "    plt.ylabel('True Positive Rate')\n",
    "    plt.title('Receiver operating characteristic curve')\n",
    "    plt.legend(loc=\"lower right\")\n",
    "    plt.show()\n"
   ]
  },
  {
   "cell_type": "code",
   "execution_count": 9,
   "metadata": {},
   "outputs": [],
   "source": [
    "#plot sensitivity and specificity curve against different priors\n",
    "def plot_sens_spec(perf_list):\n",
    "    plt.figure(figsize=(6,5))\n",
    "    lw = 2\n",
    "    probClass1 = []\n",
    "    x = 0\n",
    "    while x<1:\n",
    "        x+=.005\n",
    "        probClass1.append(x)\n",
    "\n",
    "    sensitivity = []\n",
    "    specificity = []\n",
    "    for i in range(len(perf_list)):\n",
    "        x = perf_list[i][0]\n",
    "        sensitivity.append(x)\n",
    "        y = perf_list[i][1]\n",
    "        specificity.append(y)\n",
    "        \n",
    "    line1 = plt.plot(probClass1, sensitivity,'darkorange',lw = 2,label ='sensitivity')\n",
    "    line2 = plt.plot(probClass1, specificity,'b',lw = 2,label ='specificity')\n",
    "\n",
    "    plt.xlabel('Prior Probabilities')\n",
    "#     plt.ylabel('Accuracy')\n",
    "    plt.legend(loc=\"lower right\")\n",
    "    plt.title('Sensitivity & Specificity Curve for Different Prior Probabilities')\n",
    "    plt.show() "
   ]
  },
  {
   "cell_type": "code",
   "execution_count": 10,
   "metadata": {},
   "outputs": [],
   "source": [
    "#plot TP,TN,FP,FN values for all FOUR classifiers\n",
    "def plot_acc(knn, case1, case2, case3):        \n",
    "    # plot accuracy with respect to 4 classifiers\n",
    "    plt.clf()\n",
    "    fig, axs = plt.subplots(1,1,figsize=(6,5))\n",
    "    opacity = .7\n",
    "    w = .25\n",
    "    x = ['TP', 'FP', 'TN', 'FN']\n",
    "    \n",
    "    a = [x for x, _ in enumerate(knn)]\n",
    "    b = [x + w for x in a]\n",
    "    c = [x + w for x in b]\n",
    "    d = [x + w for x in c]\n",
    "\n",
    "    bar1 = axs.bar(a, knn, color='b', width=w, edgecolor='white', label='KNN')\n",
    "    bar2 = axs.bar(b, case1, color='g', width=w, edgecolor='white', label='CaseI')\n",
    "    bar3 = axs.bar(c, case2, color='darkorange', width=w, edgecolor='white', label='CaseII')\n",
    "    bar4 = axs.bar(d, case3, color='r', width=w, edgecolor='white', label='CaseIII')\n",
    "    \n",
    "\n",
    "    # access the bar attributes to place the text in the appropriate location\n",
    "    for bar in bar1:\n",
    "        yval = bar.get_height()\n",
    "        plt.text(bar.get_x(), yval + .5, yval)\n",
    "    for bar in bar2:\n",
    "        yval = bar.get_height()\n",
    "        plt.text(bar.get_x(), yval + .5, yval)\n",
    "    for bar in bar3:\n",
    "        yval = bar.get_height()\n",
    "        plt.text(bar.get_x(), yval + .5, yval)\n",
    "    for bar in bar4:\n",
    "        yval = bar.get_height()\n",
    "        plt.text(bar.get_x(), yval + .5, yval)\n",
    "\n",
    "    plt.xticks([x + 1.5*w for x in range(len(x))], x)\n",
    "    plt.legend(loc='upper left')\n",
    "    plt.ylabel('Accuracy')\n",
    "    plt.title('Performance Analysis of Four Classifiers')\n",
    "    plt.tight_layout()\n",
    "    plt.show()"
   ]
  },
  {
   "cell_type": "code",
   "execution_count": 11,
   "metadata": {},
   "outputs": [],
   "source": [
    "#calculate sensitivity and specificity curve against different eigenvalues in PCA\n",
    "def vary_eigVal(trainfile,testfile):\n",
    "    # uncomment this line for output\n",
    "    mean_vectors, cov_vectors,dim_data, dim_class0,dim_class1  = gaussian_mle (trainfile,0,0)\n",
    "    mean1 = np.matrix(mean_vectors[0]).T\n",
    "    mean2 = np.matrix(mean_vectors[1]).T\n",
    "    cov0 = cov_vectors[0]\n",
    "    cov1 = cov_vectors[1]\n",
    "    cov2 = cov_vectors [2]\n",
    "    # calculate determinant and inverse of new covariance Matrix (case 1: covariance matrices are equal to (sigma^2)I)\n",
    "    detClass1 = np.linalg.det(cov2)\n",
    "    detClass2 = detClass1\n",
    "    invClass1 = np.linalg.inv(cov2)\n",
    "    invClass2 = invClass1\n",
    "    # calculate determinant and inverse of new covariance matrices (case 2: covariance matrices is equal)\n",
    "    detClass12 = np.linalg.det(cov1)\n",
    "    detClass22 = detClass12\n",
    "    invClass12 = np.linalg.inv(cov1)\n",
    "    invClass22 = invClass12\n",
    "    # calculate determinant and inverse of new covariance matrices (case 3: covariance matrices are different)\n",
    "    detClass13 = np.linalg.det(cov0)\n",
    "    invClass13 = np.linalg.inv(cov0)\n",
    "    invClass23 = np.linalg.inv(cov1)\n",
    "    detClass23 = np.linalg.det(cov1)\n",
    "\n",
    "    p = dim_class0/dim_data\n",
    "    \n",
    "    testSet1,predictedMatrix1= mpp(testfile,mean1,mean2,detClass1,detClass2,invClass1,invClass2,p)\n",
    "    performance1 = performance_measure(testSet1, predictedMatrix1)\n",
    "    case1 = accuracy(performance1)\n",
    "\n",
    "    testSet2,predictedMatrix2= mpp(testfile,mean1,mean2,detClass12,detClass22,invClass12,invClass22,p)\n",
    "    performance2 = performance_measure(testSet2, predictedMatrix2)\n",
    "    case2 = accuracy(performance2)\n",
    "    \n",
    "    testSet3,predictedMatrix3= mpp(testfile,mean1,mean2,detClass13,detClass23,invClass13,invClass23,p)\n",
    "    performance3 = performance_measure(testSet3, predictedMatrix3)\n",
    "    case3 = accuracy(performance3)\n",
    "\n",
    "    return case1,case2,case3\n",
    "\n",
    "case1p1,case2p1,case3p1 = vary_eigVal('pX_PIMA_TR_0.01.txt','pX_PIMA_TE_0.01.txt')\n",
    "case1p2,case2p2,case3p2 = vary_eigVal('pX_PIMA_TR_0.05.txt','pX_PIMA_TE_0.05.txt')\n",
    "case1p3,case2p3,case3p3 = vary_eigVal('pX_PIMA_TR_0.1.txt','pX_PIMA_TE_0.1.txt')\n",
    "case1p4,case2p4,case3p4 = vary_eigVal('pX_PIMA_TR_0.2.txt','pX_PIMA_TE_0.2.txt')\n",
    "case1p5,case2p5,case3p5 = vary_eigVal('pX_PIMA_TR_0.4.txt','pX_PIMA_TE_0.4.txt')\n",
    "case1p6,case2p6,case3p6 = vary_eigVal('pX_PIMA_TR_0.5.txt','pX_PIMA_TE_0.5.txt')\n",
    "case1p7,case2p7,case3p7 = vary_eigVal('pX_PIMA_TR_0.7.txt','pX_PIMA_TE_0.7.txt')\n"
   ]
  },
  {
   "cell_type": "code",
   "execution_count": 12,
   "metadata": {},
   "outputs": [],
   "source": [
    "#plot sensitivity and specificity curve against different eigenvalues in PCA\n",
    "def plot_vary_eigVal(p1,p2,p3,p4,p5,p6,p7):\n",
    "    e = [x for x in range(1,8)]\n",
    "    sensitivity = [p7[0],p6[0],p5[0],p4[0],p3[0],p2[0],p1[0]]\n",
    "    specificity = [p7[1],p6[1],p5[1],p4[1],p3[1],p2[1],p1[1]]\n",
    "    \n",
    "    line1 = plt.plot(e, sensitivity,'darkorange',lw = 2,label ='sensitivity')\n",
    "    line2 = plt.plot(e, specificity,'b',lw = 2,label ='specificity')\n",
    "\n",
    "    plt.xlabel('Number of Eigenvalues')\n",
    "#     plt.ylabel('Accuracy')\n",
    "    plt.legend(loc=\"lower right\")\n",
    "    plt.title('Sensitivity & Specificity Curve for Different Eigenvalues (Discriminant Analysis)')\n",
    "    plt.show() "
   ]
  },
  {
   "cell_type": "markdown",
   "metadata": {},
   "source": [
    "parameter calculation for normalized datset"
   ]
  },
  {
   "cell_type": "code",
   "execution_count": 13,
   "metadata": {},
   "outputs": [],
   "source": [
    "# uncomment this line for output\n",
    "mean_vectors, cov_vectors,dim_data, dim_class0,dim_class1  = gaussian_mle ('nX_PIMA_TR.txt',4,4)\n",
    "mean1 = np.matrix(mean_vectors[0]).T\n",
    "mean2 = np.matrix(mean_vectors[1]).T\n",
    "cov0 = cov_vectors[0]\n",
    "cov1 = cov_vectors[1]\n",
    "cov2 = cov_vectors [2]\n",
    "# calculate determinant and inverse of new covariance Matrix (case 1: covariance matrices are equal to (sigma^2)I)\n",
    "detClass1 = np.linalg.det(cov2)\n",
    "detClass2 = detClass1\n",
    "invClass1 = np.linalg.inv(cov2)\n",
    "invClass2 = invClass1\n"
   ]
  },
  {
   "cell_type": "code",
   "execution_count": 14,
   "metadata": {},
   "outputs": [],
   "source": [
    "# calculate determinant and inverse of new covariance matrices (case 2: covariance matrices is equal)\n",
    "detClass12 = np.linalg.det(cov1)\n",
    "detClass22 = detClass12\n",
    "invClass12 = np.linalg.inv(cov1)\n",
    "invClass22 = invClass12\n"
   ]
  },
  {
   "cell_type": "code",
   "execution_count": 15,
   "metadata": {},
   "outputs": [],
   "source": [
    "# calculate determinant and inverse of new covariance matrices (case 3: covariance matrices are different)\n",
    "detClass13 = np.linalg.det(cov0)\n",
    "invClass13 = np.linalg.inv(cov0)\n",
    "invClass23 = np.linalg.inv(cov1)\n",
    "detClass23 = np.linalg.det(cov1)\n"
   ]
  },
  {
   "cell_type": "code",
   "execution_count": 16,
   "metadata": {},
   "outputs": [],
   "source": [
    "testSet,predictedMatrix = mpp(\"nX_PIMA_TE.txt\",mean1,mean2,detClass1,detClass2,invClass1,invClass2,dim_class0/dim_data)\n",
    "case1 = performance_measure(testSet, predictedMatrix)\n",
    "testSet2,predictedMatrix2 = mpp(\"nX_PIMA_TE.txt\", mean1,mean2,detClass12,detClass22,invClass12,invClass22,dim_class0/dim_data)\n",
    "case2 = performance_measure(testSet2, predictedMatrix2)\n",
    "testSet3,predictedMatrix3 = mpp(\"nX_PIMA_TE.txt\",mean1,mean2,detClass13,detClass23,invClass13,invClass23,dim_class0/dim_data)\n",
    "case3 = performance_measure(testSet3, predictedMatrix3)\n",
    "acc1 = accuracy(case1)\n",
    "acc2 = accuracy(case2)\n",
    "acc3 = accuracy(case3)\n",
    "# print (case1,case2,case3)\n",
    "# print (acc1, acc2, acc3)\n",
    "accN = [getAccuracy(case1),getAccuracy(case2),getAccuracy(case3)]\n",
    "# print (accN)"
   ]
  },
  {
   "cell_type": "code",
   "execution_count": 17,
   "metadata": {},
   "outputs": [],
   "source": [
    "da_case1n=perf_list (\"nX_PIMA_TE.txt\",mean1,mean2,detClass1,detClass2,invClass1,invClass2)\n",
    "da_case2n=perf_list (\"nX_PIMA_TE.txt\",mean1,mean2,detClass12,detClass22,invClass12,invClass22)\n",
    "da_case3n=perf_list (\"nX_PIMA_TE.txt\",mean1,mean2,detClass13,detClass23,invClass13,invClass23)"
   ]
  },
  {
   "cell_type": "markdown",
   "metadata": {},
   "source": [
    "parameter calculation for PCA datset"
   ]
  },
  {
   "cell_type": "code",
   "execution_count": 18,
   "metadata": {
    "scrolled": true
   },
   "outputs": [],
   "source": [
    "mean_vectorsP, cov_vectorsP,dim_dataP, dim_class0P,dim_class1P  = gaussian_mle ('pX_PIMA_TR.txt',4,4)\n",
    "mean1P = np.matrix(mean_vectorsP[0]).T\n",
    "# print (mean1)\n",
    "mean2P = np.matrix(mean_vectorsP[1]).T\n",
    "cov0P = cov_vectorsP[0]\n",
    "cov1P = cov_vectorsP[1]\n",
    "cov2P = cov_vectorsP[2]\n",
    "detClass1P1 = np.linalg.det(cov2P)\n",
    "detClass2P1 = detClass1P1\n",
    "invClass1P1 = np.linalg.inv(cov2P)\n",
    "invClass2P1 = invClass1P1"
   ]
  },
  {
   "cell_type": "code",
   "execution_count": 19,
   "metadata": {},
   "outputs": [],
   "source": [
    "detClass1P2 = np.linalg.det(cov0P)\n",
    "detClass2P2 = detClass1P2\n",
    "invClass1P2 = np.linalg.inv(cov0P)\n",
    "invClass2P2 = invClass1P2"
   ]
  },
  {
   "cell_type": "code",
   "execution_count": 20,
   "metadata": {},
   "outputs": [],
   "source": [
    "detClass1P3 = np.linalg.det(cov0P)\n",
    "invClass1P3 = np.linalg.inv(cov0P)\n",
    "invClass2P3 = np.linalg.inv(cov1P)\n",
    "detClass2P3 = np.linalg.det(cov1P)"
   ]
  },
  {
   "cell_type": "code",
   "execution_count": 21,
   "metadata": {},
   "outputs": [],
   "source": [
    "testSetP,predictedMatrixP = mpp(\"pX_PIMA_TE.txt\",mean1P,mean2P,detClass1P1,detClass2P1,invClass1P1,invClass2P1,dim_class0P/dim_dataP)\n",
    "case1P = performance_measure(testSetP, predictedMatrixP)\n",
    "testSet2P,predictedMatrix2P = mpp(\"pX_PIMA_TE.txt\", mean1P,mean2P,detClass1P2,detClass2P2,invClass1P2,invClass2P2,dim_class0P/dim_dataP)\n",
    "case2P = performance_measure(testSet2P, predictedMatrix2P)\n",
    "testSet3P,predictedMatrix3P = mpp(\"pX_PIMA_TE.txt\",mean1P,mean2P,detClass1P3,detClass2P3,invClass1P3,invClass2P3,dim_class0P/dim_dataP)\n",
    "case3P = performance_measure(testSet3P, predictedMatrix3P)\n",
    "acc1p = accuracy(case1P)\n",
    "acc2p = accuracy(case2P)\n",
    "acc3p = accuracy(case3P)\n",
    "\n",
    "# print (case1P,case2P,case3P)\n",
    "# print (acc1p, acc2p, acc3p)\n",
    "\n",
    "accP = [getAccuracy(case1P),getAccuracy(case2P),getAccuracy(case3P)]\n",
    "# print (accP)"
   ]
  },
  {
   "cell_type": "code",
   "execution_count": 22,
   "metadata": {},
   "outputs": [],
   "source": [
    "da_case1p=perf_list (\"pX_PIMA_TE.txt\",mean1P,mean2P,detClass1P1,detClass2P1,invClass1P1,invClass2P1)\n",
    "da_case2p=perf_list (\"pX_PIMA_TE.txt\",mean1P,mean2P,detClass1P2,detClass2P2,invClass1P2,invClass2P2)\n",
    "da_case3p=perf_list (\"pX_PIMA_TE.txt\",mean1P,mean2P,detClass1P3,detClass2P3,invClass1P3,invClass2P3)"
   ]
  },
  {
   "cell_type": "markdown",
   "metadata": {},
   "source": [
    "parameter calculation for FLD datset"
   ]
  },
  {
   "cell_type": "code",
   "execution_count": 23,
   "metadata": {},
   "outputs": [],
   "source": [
    "mean_vectorsF, cov_vectorsF,dim_dataF, dim_class0F,dim_class1F  = gaussian_mle ('fX_PIMA_TR.txt',0,0)\n",
    "mean1F = np.matrix(mean_vectorsF[0]).T\n",
    "mean2F = np.matrix(mean_vectorsF[1]).T\n",
    "cov0F = cov_vectorsF[0]\n",
    "cov1F = cov_vectorsF[1]\n",
    "cov2F = cov_vectorsF[2]\n",
    "detClass1F1 = np.linalg.det(cov2F)\n",
    "detClass2F1 = detClass1F1\n",
    "invClass1F1 = np.linalg.inv(cov2F)\n",
    "invClass2F1 = invClass1F1\n"
   ]
  },
  {
   "cell_type": "code",
   "execution_count": 24,
   "metadata": {},
   "outputs": [],
   "source": [
    "detClass1F2 = np.linalg.det(cov0F)\n",
    "detClass2F2 = detClass1F2\n",
    "invClass1F2 = np.linalg.inv(cov0F)\n",
    "invClass2F2 = invClass1F2\n"
   ]
  },
  {
   "cell_type": "code",
   "execution_count": 25,
   "metadata": {},
   "outputs": [],
   "source": [
    "detClass1F3 = np.linalg.det(cov0F)\n",
    "invClass1F3 = np.linalg.inv(cov0F)\n",
    "invClass2F3 = np.linalg.inv(cov1F)\n",
    "detClass2F3 = np.linalg.det(cov1F)"
   ]
  },
  {
   "cell_type": "code",
   "execution_count": 50,
   "metadata": {},
   "outputs": [],
   "source": [
    "testSetF,predictedMatrixF = mpp(\"fX_PIMA_TE.txt\",mean1F,mean2F,detClass1F1,detClass2F1,invClass1F1,invClass2F1,dim_class0F/dim_dataF)\n",
    "case1F = performance_measure(testSetF, predictedMatrixF)\n",
    "testSet2F,predictedMatrix2F = mpp(\"fX_PIMA_TE.txt\", mean1F,mean2F,detClass1F2,detClass2F2,invClass1F2,invClass2F2,dim_class0F/dim_dataF)\n",
    "case2F = performance_measure(testSet2F, predictedMatrix2F)\n",
    "testSet3F,predictedMatrix3F = mpp(\"fX_PIMA_TE.txt\",mean1F,mean2F,detClass1F3,detClass2F3,invClass1F3,invClass2F3,dim_class0F/dim_dataF)\n",
    "case3F = performance_measure(testSet3F, predictedMatrix3F)\n",
    "acc1f = accuracy(case1F)\n",
    "acc2f = accuracy(case2F)\n",
    "acc3f = accuracy(case3F)\n",
    "\n",
    "# print (case1F,case2F,case3F)\n",
    "# print (acc1f, acc2f, acc3f)\n",
    "accF = [getAccuracy(case1F),getAccuracy(case2F),getAccuracy(case3F)]\n",
    "# print (accF)"
   ]
  },
  {
   "cell_type": "code",
   "execution_count": 27,
   "metadata": {},
   "outputs": [],
   "source": [
    "da_case1f=perf_list (\"fX_PIMA_TE.txt\",mean1F,mean2F,detClass1F1,detClass2F1,invClass1F1,invClass2F1)\n",
    "da_case2f=perf_list (\"fX_PIMA_TE.txt\",mean1F,mean2F,detClass1F2,detClass2F2,invClass1F2,invClass2F2)\n",
    "da_case3f=perf_list (\"fX_PIMA_TE.txt\",mean1F,mean2F,detClass1F3,detClass2F3,invClass1F3,invClass2F3)"
   ]
  },
  {
   "cell_type": "markdown",
   "metadata": {},
   "source": [
    "output cells\n",
    "\n",
    "uncomment for output"
   ]
  },
  {
   "cell_type": "code",
   "execution_count": 28,
   "metadata": {},
   "outputs": [],
   "source": [
    "# x = plot_roc (da_case1n)"
   ]
  },
  {
   "cell_type": "code",
   "execution_count": 29,
   "metadata": {},
   "outputs": [],
   "source": [
    "# y = plot_roc (da_case2n)"
   ]
  },
  {
   "cell_type": "code",
   "execution_count": 30,
   "metadata": {},
   "outputs": [],
   "source": [
    "# plot_roc (da_case3n)"
   ]
  },
  {
   "cell_type": "code",
   "execution_count": 31,
   "metadata": {},
   "outputs": [],
   "source": [
    "# plot_roc (da_case1p)"
   ]
  },
  {
   "cell_type": "code",
   "execution_count": 32,
   "metadata": {},
   "outputs": [],
   "source": [
    "# plot_roc (da_case2p)"
   ]
  },
  {
   "cell_type": "code",
   "execution_count": 33,
   "metadata": {},
   "outputs": [],
   "source": [
    "# plot_roc (da_case3p)"
   ]
  },
  {
   "cell_type": "code",
   "execution_count": 57,
   "metadata": {},
   "outputs": [],
   "source": [
    "# plot_roc (da_case1f)"
   ]
  },
  {
   "cell_type": "code",
   "execution_count": 58,
   "metadata": {},
   "outputs": [],
   "source": [
    "# plot_roc (da_case2f)"
   ]
  },
  {
   "cell_type": "code",
   "execution_count": 55,
   "metadata": {},
   "outputs": [],
   "source": [
    "# plot_roc (da_case3f)"
   ]
  },
  {
   "cell_type": "code",
   "execution_count": 54,
   "metadata": {
    "scrolled": false
   },
   "outputs": [],
   "source": [
    "# knn = [56, 23, 200, 53]\n",
    "# knnp = [60, 28, 195, 49]\n",
    "# knnf = [66, 28, 195, 43]\n",
    "\n",
    "# plot_acc (knn, case1, case2, case3)\n",
    "# plot_acc (knnp, case1P, case2P, case3P)\n",
    "# plot_acc (knnf, case1F, case2F, case3F)\n"
   ]
  },
  {
   "cell_type": "code",
   "execution_count": 38,
   "metadata": {},
   "outputs": [],
   "source": [
    "# plot_sens_spec(da_case1n)"
   ]
  },
  {
   "cell_type": "code",
   "execution_count": 39,
   "metadata": {},
   "outputs": [],
   "source": [
    "# plot_sens_spec(da_case2n)"
   ]
  },
  {
   "cell_type": "code",
   "execution_count": 40,
   "metadata": {},
   "outputs": [],
   "source": [
    "# plot_sens_spec(da_case3n)"
   ]
  },
  {
   "cell_type": "code",
   "execution_count": 41,
   "metadata": {},
   "outputs": [],
   "source": [
    "# plot_sens_spec(da_case1p)"
   ]
  },
  {
   "cell_type": "code",
   "execution_count": 42,
   "metadata": {},
   "outputs": [],
   "source": [
    "# plot_sens_spec(da_case2p)"
   ]
  },
  {
   "cell_type": "code",
   "execution_count": 43,
   "metadata": {},
   "outputs": [],
   "source": [
    "# plot_sens_spec(da_case3p)"
   ]
  },
  {
   "cell_type": "code",
   "execution_count": 53,
   "metadata": {},
   "outputs": [],
   "source": [
    "# plot_sens_spec(da_case1f)"
   ]
  },
  {
   "cell_type": "code",
   "execution_count": 52,
   "metadata": {},
   "outputs": [],
   "source": [
    "# plot_sens_spec(da_case2f)"
   ]
  },
  {
   "cell_type": "code",
   "execution_count": 51,
   "metadata": {},
   "outputs": [],
   "source": [
    "# plot_sens_spec(da_case3f)"
   ]
  },
  {
   "cell_type": "code",
   "execution_count": 47,
   "metadata": {},
   "outputs": [],
   "source": [
    "# plot_vary_eigVal(case1p1,case1p2,case1p3,case1p4,case1p5,case1p6,case1p7)"
   ]
  },
  {
   "cell_type": "code",
   "execution_count": 48,
   "metadata": {},
   "outputs": [],
   "source": [
    "# plot_vary_eigVal(case2p1,case2p2,case2p3,case2p4,case2p5,case2p6,case2p7)"
   ]
  },
  {
   "cell_type": "code",
   "execution_count": 49,
   "metadata": {},
   "outputs": [],
   "source": [
    "# plot_vary_eigVal(case3p1,case3p2,case3p3,case3p4,case3p5,case3p6,case3p7)"
   ]
  }
 ],
 "metadata": {
  "kernelspec": {
   "display_name": "Python 3",
   "language": "python",
   "name": "python3"
  },
  "language_info": {
   "codemirror_mode": {
    "name": "ipython",
    "version": 3
   },
   "file_extension": ".py",
   "mimetype": "text/x-python",
   "name": "python",
   "nbconvert_exporter": "python",
   "pygments_lexer": "ipython3",
   "version": "3.6.5"
  }
 },
 "nbformat": 4,
 "nbformat_minor": 2
}
